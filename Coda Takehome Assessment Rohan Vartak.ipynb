{
 "cells": [
  {
   "cell_type": "markdown",
   "metadata": {},
   "source": [
    "# Takehome Assesment - Rohan Vartak"
   ]
  },
  {
   "cell_type": "markdown",
   "metadata": {},
   "source": [
    "### Tools Used"
   ]
  },
  {
   "cell_type": "markdown",
   "metadata": {},
   "source": [
    "For this analysis I have made use of pandas and SQL. I have used pandas to read the csv files and then used SQL using pandasql library to do analysis. The primary reason for using SQL instead of pandas directly is that I am more familiar with SQL and I use it in my day to day work and therefore it helped me speed up my work. For visualizing the data I have made use of seaborn library for quick visualizations."
   ]
  },
  {
   "cell_type": "markdown",
   "metadata": {},
   "source": [
    "### Analysis"
   ]
  },
  {
   "cell_type": "code",
   "execution_count": 2,
   "metadata": {
    "jupyter": {
     "source_hidden": true
    }
   },
   "outputs": [],
   "source": [
    "import pandas as pd\n",
    "import matplotlib.pyplot as plt\n",
    "import numpy as np\n",
    "import seaborn as sns\n",
    "import pandasql as psql"
   ]
  },
  {
   "cell_type": "code",
   "execution_count": 3,
   "metadata": {
    "jupyter": {
     "source_hidden": true
    }
   },
   "outputs": [
    {
     "data": {
      "text/html": [
       "<div>\n",
       "<style scoped>\n",
       "    .dataframe tbody tr th:only-of-type {\n",
       "        vertical-align: middle;\n",
       "    }\n",
       "\n",
       "    .dataframe tbody tr th {\n",
       "        vertical-align: top;\n",
       "    }\n",
       "\n",
       "    .dataframe thead th {\n",
       "        text-align: right;\n",
       "    }\n",
       "</style>\n",
       "<table border=\"1\" class=\"dataframe\">\n",
       "  <thead>\n",
       "    <tr style=\"text-align: right;\">\n",
       "      <th></th>\n",
       "      <th>client_timestamp</th>\n",
       "      <th>id_user</th>\n",
       "      <th>id_doc</th>\n",
       "      <th>event_type</th>\n",
       "      <th>event_detail</th>\n",
       "      <th>event_detail_name</th>\n",
       "      <th>doc_type</th>\n",
       "      <th>client_url</th>\n",
       "    </tr>\n",
       "  </thead>\n",
       "  <tbody>\n",
       "    <tr>\n",
       "      <th>0</th>\n",
       "      <td>2017-08-11 14:14:53.691</td>\n",
       "      <td>3</td>\n",
       "      <td>54</td>\n",
       "      <td>navigate</td>\n",
       "      <td>NaN</td>\n",
       "      <td>NaN</td>\n",
       "      <td>User Doc</td>\n",
       "      <td>/d</td>\n",
       "    </tr>\n",
       "    <tr>\n",
       "      <th>1</th>\n",
       "      <td>2017-08-11 14:14:53.837</td>\n",
       "      <td>3</td>\n",
       "      <td>54</td>\n",
       "      <td>storageUsage</td>\n",
       "      <td>NaN</td>\n",
       "      <td>NaN</td>\n",
       "      <td>User Doc</td>\n",
       "      <td>/d</td>\n",
       "    </tr>\n",
       "    <tr>\n",
       "      <th>2</th>\n",
       "      <td>2017-08-11 14:14:54.329</td>\n",
       "      <td>3</td>\n",
       "      <td>54</td>\n",
       "      <td>loadDocument</td>\n",
       "      <td>NaN</td>\n",
       "      <td>NaN</td>\n",
       "      <td>User Doc</td>\n",
       "      <td>/d</td>\n",
       "    </tr>\n",
       "    <tr>\n",
       "      <th>3</th>\n",
       "      <td>2017-08-11 19:32:51.151</td>\n",
       "      <td>3</td>\n",
       "      <td>54</td>\n",
       "      <td>navigate</td>\n",
       "      <td>NaN</td>\n",
       "      <td>NaN</td>\n",
       "      <td>User Doc</td>\n",
       "      <td>/d</td>\n",
       "    </tr>\n",
       "    <tr>\n",
       "      <th>4</th>\n",
       "      <td>2017-08-11 19:32:51.231</td>\n",
       "      <td>3</td>\n",
       "      <td>54</td>\n",
       "      <td>loadDocument</td>\n",
       "      <td>NaN</td>\n",
       "      <td>NaN</td>\n",
       "      <td>User Doc</td>\n",
       "      <td>/d</td>\n",
       "    </tr>\n",
       "  </tbody>\n",
       "</table>\n",
       "</div>"
      ],
      "text/plain": [
       "          client_timestamp  id_user  id_doc    event_type event_detail  \\\n",
       "0  2017-08-11 14:14:53.691        3      54      navigate          NaN   \n",
       "1  2017-08-11 14:14:53.837        3      54  storageUsage          NaN   \n",
       "2  2017-08-11 14:14:54.329        3      54  loadDocument          NaN   \n",
       "3  2017-08-11 19:32:51.151        3      54      navigate          NaN   \n",
       "4  2017-08-11 19:32:51.231        3      54  loadDocument          NaN   \n",
       "\n",
       "  event_detail_name  doc_type client_url  \n",
       "0               NaN  User Doc         /d  \n",
       "1               NaN  User Doc         /d  \n",
       "2               NaN  User Doc         /d  \n",
       "3               NaN  User Doc         /d  \n",
       "4               NaN  User Doc         /d  "
      ]
     },
     "execution_count": 3,
     "metadata": {},
     "output_type": "execute_result"
    }
   ],
   "source": [
    "df = pd.read_csv('takehome_data.csv')\n",
    "df.head()"
   ]
  },
  {
   "cell_type": "markdown",
   "metadata": {},
   "source": [
    "adding a new column for date, which is extracted from the timestamp column"
   ]
  },
  {
   "cell_type": "code",
   "execution_count": 4,
   "metadata": {
    "jupyter": {
     "source_hidden": true
    }
   },
   "outputs": [],
   "source": [
    "df1 = psql.sqldf(\"select client_timestamp, substr(client_timestamp, 1, 10) as date, id_user as userid, id_doc as docid, event_type, event_detail, event_detail_name, doc_type, client_url from df;\", globals())"
   ]
  },
  {
   "cell_type": "code",
   "execution_count": 5,
   "metadata": {
    "jupyter": {
     "source_hidden": true
    }
   },
   "outputs": [
    {
     "data": {
      "text/html": [
       "<div>\n",
       "<style scoped>\n",
       "    .dataframe tbody tr th:only-of-type {\n",
       "        vertical-align: middle;\n",
       "    }\n",
       "\n",
       "    .dataframe tbody tr th {\n",
       "        vertical-align: top;\n",
       "    }\n",
       "\n",
       "    .dataframe thead th {\n",
       "        text-align: right;\n",
       "    }\n",
       "</style>\n",
       "<table border=\"1\" class=\"dataframe\">\n",
       "  <thead>\n",
       "    <tr style=\"text-align: right;\">\n",
       "      <th></th>\n",
       "      <th>client_timestamp</th>\n",
       "      <th>date</th>\n",
       "      <th>userid</th>\n",
       "      <th>docid</th>\n",
       "      <th>event_type</th>\n",
       "      <th>event_detail</th>\n",
       "      <th>event_detail_name</th>\n",
       "      <th>doc_type</th>\n",
       "      <th>client_url</th>\n",
       "    </tr>\n",
       "  </thead>\n",
       "  <tbody>\n",
       "    <tr>\n",
       "      <th>0</th>\n",
       "      <td>2017-08-11 14:14:53.691</td>\n",
       "      <td>2017-08-11</td>\n",
       "      <td>3</td>\n",
       "      <td>54</td>\n",
       "      <td>navigate</td>\n",
       "      <td>None</td>\n",
       "      <td>None</td>\n",
       "      <td>User Doc</td>\n",
       "      <td>/d</td>\n",
       "    </tr>\n",
       "    <tr>\n",
       "      <th>1</th>\n",
       "      <td>2017-08-11 14:14:53.837</td>\n",
       "      <td>2017-08-11</td>\n",
       "      <td>3</td>\n",
       "      <td>54</td>\n",
       "      <td>storageUsage</td>\n",
       "      <td>None</td>\n",
       "      <td>None</td>\n",
       "      <td>User Doc</td>\n",
       "      <td>/d</td>\n",
       "    </tr>\n",
       "    <tr>\n",
       "      <th>2</th>\n",
       "      <td>2017-08-11 14:14:54.329</td>\n",
       "      <td>2017-08-11</td>\n",
       "      <td>3</td>\n",
       "      <td>54</td>\n",
       "      <td>loadDocument</td>\n",
       "      <td>None</td>\n",
       "      <td>None</td>\n",
       "      <td>User Doc</td>\n",
       "      <td>/d</td>\n",
       "    </tr>\n",
       "    <tr>\n",
       "      <th>3</th>\n",
       "      <td>2017-08-11 19:32:51.151</td>\n",
       "      <td>2017-08-11</td>\n",
       "      <td>3</td>\n",
       "      <td>54</td>\n",
       "      <td>navigate</td>\n",
       "      <td>None</td>\n",
       "      <td>None</td>\n",
       "      <td>User Doc</td>\n",
       "      <td>/d</td>\n",
       "    </tr>\n",
       "    <tr>\n",
       "      <th>4</th>\n",
       "      <td>2017-08-11 19:32:51.231</td>\n",
       "      <td>2017-08-11</td>\n",
       "      <td>3</td>\n",
       "      <td>54</td>\n",
       "      <td>loadDocument</td>\n",
       "      <td>None</td>\n",
       "      <td>None</td>\n",
       "      <td>User Doc</td>\n",
       "      <td>/d</td>\n",
       "    </tr>\n",
       "  </tbody>\n",
       "</table>\n",
       "</div>"
      ],
      "text/plain": [
       "          client_timestamp        date  userid  docid    event_type  \\\n",
       "0  2017-08-11 14:14:53.691  2017-08-11       3     54      navigate   \n",
       "1  2017-08-11 14:14:53.837  2017-08-11       3     54  storageUsage   \n",
       "2  2017-08-11 14:14:54.329  2017-08-11       3     54  loadDocument   \n",
       "3  2017-08-11 19:32:51.151  2017-08-11       3     54      navigate   \n",
       "4  2017-08-11 19:32:51.231  2017-08-11       3     54  loadDocument   \n",
       "\n",
       "  event_detail event_detail_name  doc_type client_url  \n",
       "0         None              None  User Doc         /d  \n",
       "1         None              None  User Doc         /d  \n",
       "2         None              None  User Doc         /d  \n",
       "3         None              None  User Doc         /d  \n",
       "4         None              None  User Doc         /d  "
      ]
     },
     "execution_count": 5,
     "metadata": {},
     "output_type": "execute_result"
    }
   ],
   "source": [
    "df1.head()"
   ]
  },
  {
   "cell_type": "markdown",
   "metadata": {},
   "source": [
    "For inital analysis looking at how many distinct users have used coda per month."
   ]
  },
  {
   "cell_type": "code",
   "execution_count": 7,
   "metadata": {
    "jupyter": {
     "source_hidden": true
    }
   },
   "outputs": [
    {
     "data": {
      "text/plain": [
       "<matplotlib.axes._subplots.AxesSubplot at 0x7fd0e9d4b790>"
      ]
     },
     "execution_count": 7,
     "metadata": {},
     "output_type": "execute_result"
    },
    {
     "data": {
      "image/png": "[encoded data removed]",
      "text/plain": [
       "<Figure size 432x288 with 1 Axes>"
      ]
     },
     "metadata": {
      "needs_background": "light"
     },
     "output_type": "display_data"
    }
   ],
   "source": [
    "a = psql.sqldf(\"select substr(date, 1, 7) as month, count(distinct(userid)) as users from df1 group by 1;\", globals())\n",
    "sns.lineplot(data=a, x='month', y='users')"
   ]
  },
  {
   "cell_type": "markdown",
   "metadata": {},
   "source": [
    "Also looking at the number of documents which have event logs per month"
   ]
  },
  {
   "cell_type": "code",
   "execution_count": 8,
   "metadata": {
    "jupyter": {
     "source_hidden": true
    }
   },
   "outputs": [
    {
     "data": {
      "text/plain": [
       "<matplotlib.axes._subplots.AxesSubplot at 0x7fd0d99d3750>"
      ]
     },
     "execution_count": 8,
     "metadata": {},
     "output_type": "execute_result"
    },
    {
     "data": {
      "image/png": "[encoded data removed]",
      "text/plain": [
       "<Figure size 432x288 with 1 Axes>"
      ]
     },
     "metadata": {
      "needs_background": "light"
     },
     "output_type": "display_data"
    }
   ],
   "source": [
    "b = psql.sqldf(\"select substr(date, 1, 7) as month, count(distinct(docid)) as docs from df1 group by 1;\", globals())\n",
    "sns.lineplot(data=b, x='month', y='docs')"
   ]
  },
  {
   "cell_type": "markdown",
   "metadata": {},
   "source": [
    "There is no particular pattern in the monthly users or documents"
   ]
  },
  {
   "cell_type": "markdown",
   "metadata": {},
   "source": [
    "Looking at the actual events, seeing the counts of each events"
   ]
  },
  {
   "cell_type": "code",
   "execution_count": 10,
   "metadata": {
    "jupyter": {
     "source_hidden": true
    }
   },
   "outputs": [
    {
     "name": "stdout",
     "output_type": "stream",
     "text": [
      "                      event_type   count\n",
      "0            applyLocalOperation  338378\n",
      "1                       navigate    5637\n",
      "2                   storageUsage    5323\n",
      "3                   loadDocument    5070\n",
      "4                      mouseDown    4988\n",
      "5              viewDefaultValues    2509\n",
      "6          tutorialStepCompleted    2413\n",
      "7            tutorialStepStarted    2165\n",
      "8                     addFormula    1283\n",
      "9               documentSearched    1254\n",
      "10                         click     771\n",
      "11                    addSection     735\n",
      "12                 confirmDelete     631\n",
      "13                       addGrid     501\n",
      "14         resolver/invalidation     448\n",
      "15                addLinkedTable     342\n",
      "16                renameDocument     229\n",
      "17            experimentExposure     219\n",
      "18              externalNavigate     175\n",
      "19              addSectionFolder     166\n",
      "20                      addImage     122\n",
      "21                    autoReload      81\n",
      "22             tutorialCompleted      68\n",
      "23                 shareDocument      60\n",
      "24              addCommentThread      52\n",
      "25                      docShare      48\n",
      "26             fontPreloadFailed      29\n",
      "27       reloadOnErrorDuringLoad      23\n",
      "28                  copyDocument      15\n",
      "29     convertRowToColumnHeaders      15\n",
      "30            docShareInviteUser      14\n",
      "31  tutorialPredicateCheckFailed      13\n",
      "32            tutorialShowTeaser       9\n",
      "33                         leave       9\n",
      "34            tutorialClickStart       7\n",
      "35             documentLoadError       4\n",
      "36       tutorialClickMaybeLater       1\n"
     ]
    }
   ],
   "source": [
    "print(psql.sqldf(\"select event_type, count(*) as count from df1 group by 1 order by 2 desc;\", globals()))"
   ]
  },
  {
   "cell_type": "markdown",
   "metadata": {},
   "source": [
    "From above we see that \n",
    "- Application of Local Operation is the most frequent event. It will be good to do further analysis on the type of operations used by the users.\n",
    "- Events related to navigation and loading/opening of documents are also more common. This is understandable since the users will be opening and navigating to various documents.\n",
    "- There is also add events such as addFormula, addSection. These event can be compared to see what kind of addtions the use are adding to their docs.\n",
    "- Other events seem to be less frequent so I will not focus on them for this analysis"
   ]
  },
  {
   "cell_type": "markdown",
   "metadata": {},
   "source": [
    "#### For the next step I will first try to understand the usage pattern for these users "
   ]
  },
  {
   "cell_type": "code",
   "execution_count": 11,
   "metadata": {
    "jupyter": {
     "source_hidden": true
    }
   },
   "outputs": [],
   "source": [
    "q = psql.sqldf(\"select userid, count(*) as count from df1 group by 1 order by 2 desc;\", globals())"
   ]
  },
  {
   "cell_type": "code",
   "execution_count": 14,
   "metadata": {
    "jupyter": {
     "source_hidden": true
    }
   },
   "outputs": [
    {
     "data": {
      "text/plain": [
       "<matplotlib.axes._subplots.AxesSubplot at 0x7fd0cdc1ce10>"
      ]
     },
     "execution_count": 14,
     "metadata": {},
     "output_type": "execute_result"
    },
    {
     "data": {
      "image/png": "[encoded data removed]",
      "text/plain": [
       "<Figure size 432x288 with 1 Axes>"
      ]
     },
     "metadata": {
      "needs_background": "light"
     },
     "output_type": "display_data"
    }
   ],
   "source": [
    "sns.histplot(data=q, x='count')"
   ]
  },
  {
   "cell_type": "markdown",
   "metadata": {},
   "source": [
    "Looking at the first 15 users who have most events"
   ]
  },
  {
   "cell_type": "code",
   "execution_count": 15,
   "metadata": {
    "jupyter": {
     "source_hidden": true
    }
   },
   "outputs": [
    {
     "data": {
      "text/html": [
       "<div>\n",
       "<style scoped>\n",
       "    .dataframe tbody tr th:only-of-type {\n",
       "        vertical-align: middle;\n",
       "    }\n",
       "\n",
       "    .dataframe tbody tr th {\n",
       "        vertical-align: top;\n",
       "    }\n",
       "\n",
       "    .dataframe thead th {\n",
       "        text-align: right;\n",
       "    }\n",
       "</style>\n",
       "<table border=\"1\" class=\"dataframe\">\n",
       "  <thead>\n",
       "    <tr style=\"text-align: right;\">\n",
       "      <th></th>\n",
       "      <th>userid</th>\n",
       "      <th>count</th>\n",
       "    </tr>\n",
       "  </thead>\n",
       "  <tbody>\n",
       "    <tr>\n",
       "      <th>0</th>\n",
       "      <td>167</td>\n",
       "      <td>59198</td>\n",
       "    </tr>\n",
       "    <tr>\n",
       "      <th>1</th>\n",
       "      <td>102</td>\n",
       "      <td>29578</td>\n",
       "    </tr>\n",
       "    <tr>\n",
       "      <th>2</th>\n",
       "      <td>38</td>\n",
       "      <td>19420</td>\n",
       "    </tr>\n",
       "    <tr>\n",
       "      <th>3</th>\n",
       "      <td>186</td>\n",
       "      <td>18944</td>\n",
       "    </tr>\n",
       "    <tr>\n",
       "      <th>4</th>\n",
       "      <td>34</td>\n",
       "      <td>18571</td>\n",
       "    </tr>\n",
       "    <tr>\n",
       "      <th>5</th>\n",
       "      <td>4</td>\n",
       "      <td>17478</td>\n",
       "    </tr>\n",
       "    <tr>\n",
       "      <th>6</th>\n",
       "      <td>17</td>\n",
       "      <td>13583</td>\n",
       "    </tr>\n",
       "    <tr>\n",
       "      <th>7</th>\n",
       "      <td>265</td>\n",
       "      <td>12223</td>\n",
       "    </tr>\n",
       "    <tr>\n",
       "      <th>8</th>\n",
       "      <td>162</td>\n",
       "      <td>11473</td>\n",
       "    </tr>\n",
       "    <tr>\n",
       "      <th>9</th>\n",
       "      <td>218</td>\n",
       "      <td>11142</td>\n",
       "    </tr>\n",
       "    <tr>\n",
       "      <th>10</th>\n",
       "      <td>249</td>\n",
       "      <td>10331</td>\n",
       "    </tr>\n",
       "    <tr>\n",
       "      <th>11</th>\n",
       "      <td>154</td>\n",
       "      <td>9810</td>\n",
       "    </tr>\n",
       "    <tr>\n",
       "      <th>12</th>\n",
       "      <td>308</td>\n",
       "      <td>9096</td>\n",
       "    </tr>\n",
       "    <tr>\n",
       "      <th>13</th>\n",
       "      <td>341</td>\n",
       "      <td>7280</td>\n",
       "    </tr>\n",
       "    <tr>\n",
       "      <th>14</th>\n",
       "      <td>273</td>\n",
       "      <td>6178</td>\n",
       "    </tr>\n",
       "  </tbody>\n",
       "</table>\n",
       "</div>"
      ],
      "text/plain": [
       "    userid  count\n",
       "0      167  59198\n",
       "1      102  29578\n",
       "2       38  19420\n",
       "3      186  18944\n",
       "4       34  18571\n",
       "5        4  17478\n",
       "6       17  13583\n",
       "7      265  12223\n",
       "8      162  11473\n",
       "9      218  11142\n",
       "10     249  10331\n",
       "11     154   9810\n",
       "12     308   9096\n",
       "13     341   7280\n",
       "14     273   6178"
      ]
     },
     "execution_count": 15,
     "metadata": {},
     "output_type": "execute_result"
    }
   ],
   "source": [
    "q.head(15)"
   ]
  },
  {
   "cell_type": "markdown",
   "metadata": {},
   "source": [
    "Looking at the last 15 users who have least number of events"
   ]
  },
  {
   "cell_type": "code",
   "execution_count": 16,
   "metadata": {
    "jupyter": {
     "source_hidden": true
    }
   },
   "outputs": [
    {
     "data": {
      "text/html": [
       "<div>\n",
       "<style scoped>\n",
       "    .dataframe tbody tr th:only-of-type {\n",
       "        vertical-align: middle;\n",
       "    }\n",
       "\n",
       "    .dataframe tbody tr th {\n",
       "        vertical-align: top;\n",
       "    }\n",
       "\n",
       "    .dataframe thead th {\n",
       "        text-align: right;\n",
       "    }\n",
       "</style>\n",
       "<table border=\"1\" class=\"dataframe\">\n",
       "  <thead>\n",
       "    <tr style=\"text-align: right;\">\n",
       "      <th></th>\n",
       "      <th>userid</th>\n",
       "      <th>count</th>\n",
       "    </tr>\n",
       "  </thead>\n",
       "  <tbody>\n",
       "    <tr>\n",
       "      <th>394</th>\n",
       "      <td>220</td>\n",
       "      <td>3</td>\n",
       "    </tr>\n",
       "    <tr>\n",
       "      <th>395</th>\n",
       "      <td>219</td>\n",
       "      <td>3</td>\n",
       "    </tr>\n",
       "    <tr>\n",
       "      <th>396</th>\n",
       "      <td>217</td>\n",
       "      <td>3</td>\n",
       "    </tr>\n",
       "    <tr>\n",
       "      <th>397</th>\n",
       "      <td>192</td>\n",
       "      <td>3</td>\n",
       "    </tr>\n",
       "    <tr>\n",
       "      <th>398</th>\n",
       "      <td>190</td>\n",
       "      <td>3</td>\n",
       "    </tr>\n",
       "    <tr>\n",
       "      <th>399</th>\n",
       "      <td>189</td>\n",
       "      <td>3</td>\n",
       "    </tr>\n",
       "    <tr>\n",
       "      <th>400</th>\n",
       "      <td>188</td>\n",
       "      <td>3</td>\n",
       "    </tr>\n",
       "    <tr>\n",
       "      <th>401</th>\n",
       "      <td>185</td>\n",
       "      <td>3</td>\n",
       "    </tr>\n",
       "    <tr>\n",
       "      <th>402</th>\n",
       "      <td>182</td>\n",
       "      <td>3</td>\n",
       "    </tr>\n",
       "    <tr>\n",
       "      <th>403</th>\n",
       "      <td>177</td>\n",
       "      <td>3</td>\n",
       "    </tr>\n",
       "    <tr>\n",
       "      <th>404</th>\n",
       "      <td>171</td>\n",
       "      <td>3</td>\n",
       "    </tr>\n",
       "    <tr>\n",
       "      <th>405</th>\n",
       "      <td>114</td>\n",
       "      <td>3</td>\n",
       "    </tr>\n",
       "    <tr>\n",
       "      <th>406</th>\n",
       "      <td>37</td>\n",
       "      <td>3</td>\n",
       "    </tr>\n",
       "    <tr>\n",
       "      <th>407</th>\n",
       "      <td>26</td>\n",
       "      <td>3</td>\n",
       "    </tr>\n",
       "    <tr>\n",
       "      <th>408</th>\n",
       "      <td>10</td>\n",
       "      <td>3</td>\n",
       "    </tr>\n",
       "  </tbody>\n",
       "</table>\n",
       "</div>"
      ],
      "text/plain": [
       "     userid  count\n",
       "394     220      3\n",
       "395     219      3\n",
       "396     217      3\n",
       "397     192      3\n",
       "398     190      3\n",
       "399     189      3\n",
       "400     188      3\n",
       "401     185      3\n",
       "402     182      3\n",
       "403     177      3\n",
       "404     171      3\n",
       "405     114      3\n",
       "406      37      3\n",
       "407      26      3\n",
       "408      10      3"
      ]
     },
     "execution_count": 16,
     "metadata": {},
     "output_type": "execute_result"
    }
   ],
   "source": [
    "q.tail(15)"
   ]
  },
  {
   "cell_type": "markdown",
   "metadata": {},
   "source": [
    "**There seems to be a highly skewed distibution of event count among the users, with a few users who are power users and have heavy usage while a considerable number of users just open the docs to possible just read them without editing them or making changes to them.**"
   ]
  },
  {
   "cell_type": "markdown",
   "metadata": {},
   "source": [
    "Looking at events logs 1 particular user"
   ]
  },
  {
   "cell_type": "code",
   "execution_count": 17,
   "metadata": {
    "jupyter": {
     "source_hidden": true
    }
   },
   "outputs": [
    {
     "name": "stdout",
     "output_type": "stream",
     "text": [
      "           client_timestamp        date  userid  docid           event_type  \\\n",
      "0   2017-12-19 09:33:25.936  2017-12-19     245    155         loadDocument   \n",
      "1   2017-12-19 09:33:26.454  2017-12-19     245    155             navigate   \n",
      "2   2017-12-19 09:33:26.589  2017-12-19     245    155         storageUsage   \n",
      "3   2017-12-19 13:18:57.002  2017-12-19     245    155         storageUsage   \n",
      "4    2017-12-19 13:18:57.75  2017-12-19     245    155         loadDocument   \n",
      "5   2017-12-19 13:18:58.588  2017-12-19     245    155             navigate   \n",
      "6   2017-12-19 13:29:43.575  2017-12-19     245    155  applyLocalOperation   \n",
      "7   2017-12-19 13:36:56.043  2017-12-19     245    155         loadDocument   \n",
      "8    2017-12-19 13:36:56.32  2017-12-19     245    155             navigate   \n",
      "9   2017-12-19 13:36:56.415  2017-12-19     245    155         storageUsage   \n",
      "10  2017-12-19 13:38:22.651  2017-12-19     245    155  applyLocalOperation   \n",
      "11  2017-12-19 13:39:04.961  2017-12-19     245    155  applyLocalOperation   \n",
      "12   2017-12-19 13:39:11.82  2017-12-19     245    155  applyLocalOperation   \n",
      "13  2017-12-19 13:39:16.793  2017-12-19     245    155  applyLocalOperation   \n",
      "14  2017-12-19 13:39:22.615  2017-12-19     245    155  applyLocalOperation   \n",
      "15  2017-12-19 13:41:30.369  2017-12-19     245    155  applyLocalOperation   \n",
      "16  2017-12-19 13:41:30.375  2017-12-19     245    155  applyLocalOperation   \n",
      "17  2017-12-19 13:41:30.377  2017-12-19     245    155  applyLocalOperation   \n",
      "18  2017-12-19 13:59:59.632  2017-12-19     245    155  applyLocalOperation   \n",
      "19  2017-12-19 13:59:59.653  2017-12-19     245    155  applyLocalOperation   \n",
      "20  2017-12-19 14:00:41.079  2017-12-19     245    155  applyLocalOperation   \n",
      "21  2017-12-19 14:00:41.083  2017-12-19     245    155  applyLocalOperation   \n",
      "22  2017-12-19 14:00:41.085  2017-12-19     245    155  applyLocalOperation   \n",
      "23      2017-12-19 14:03:00  2017-12-19     245    155  applyLocalOperation   \n",
      "24  2017-12-19 14:03:09.947  2017-12-19     245    155  applyLocalOperation   \n",
      "25  2017-12-19 14:04:03.807  2017-12-19     245    155  applyLocalOperation   \n",
      "26  2017-12-19 14:04:03.835  2017-12-19     245    155  applyLocalOperation   \n",
      "27  2017-12-19 14:11:27.214  2017-12-19     245    155  applyLocalOperation   \n",
      "28  2017-12-19 14:12:44.763  2017-12-19     245    155  applyLocalOperation   \n",
      "29  2017-12-19 14:12:51.577  2017-12-19     245    155  applyLocalOperation   \n",
      "30  2017-12-19 14:29:01.599  2017-12-19     245    155  applyLocalOperation   \n",
      "31  2017-12-19 18:40:58.209  2017-12-19     245    155         loadDocument   \n",
      "32  2017-12-19 18:41:00.105  2017-12-19     245    155             navigate   \n",
      "33   2017-12-19 18:41:00.55  2017-12-19     245    155         storageUsage   \n",
      "\n",
      "   event_detail         event_detail_name  doc_type client_url  \n",
      "0          None                      None  User Doc         /d  \n",
      "1          None                      None  User Doc         /d  \n",
      "2          None                      None  User Doc         /d  \n",
      "3          None                      None  User Doc         /d  \n",
      "4          None                      None  User Doc         /d  \n",
      "5          None                      None  User Doc         /d  \n",
      "6            CN             RENAME_COLUMN  User Doc         /d  \n",
      "7          None                      None  User Doc         /d  \n",
      "8          None                      None  User Doc         /d  \n",
      "9          None                      None  User Doc         /d  \n",
      "10          RBM     BULK_MODIFY_ROW_VALUE  User Doc         /d  \n",
      "11          RBM     BULK_MODIFY_ROW_VALUE  User Doc         /d  \n",
      "12          RBM     BULK_MODIFY_ROW_VALUE  User Doc         /d  \n",
      "13          RBM     BULK_MODIFY_ROW_VALUE  User Doc         /d  \n",
      "14          RBM     BULK_MODIFY_ROW_VALUE  User Doc         /d  \n",
      "15          BRA              BULK_ADD_ROW  User Doc         /d  \n",
      "16          BRA              BULK_ADD_ROW  User Doc         /d  \n",
      "17          RBM     BULK_MODIFY_ROW_VALUE  User Doc         /d  \n",
      "18         CVPR  SET_COLUMN_VIEW_PROPERTY  User Doc         /d  \n",
      "19          RBM     BULK_MODIFY_ROW_VALUE  User Doc         /d  \n",
      "20          BRA              BULK_ADD_ROW  User Doc         /d  \n",
      "21          BRA              BULK_ADD_ROW  User Doc         /d  \n",
      "22          RBM     BULK_MODIFY_ROW_VALUE  User Doc         /d  \n",
      "23          RBM     BULK_MODIFY_ROW_VALUE  User Doc         /d  \n",
      "24          RBM     BULK_MODIFY_ROW_VALUE  User Doc         /d  \n",
      "25         CVPR  SET_COLUMN_VIEW_PROPERTY  User Doc         /d  \n",
      "26          RBM     BULK_MODIFY_ROW_VALUE  User Doc         /d  \n",
      "27          RBM     BULK_MODIFY_ROW_VALUE  User Doc         /d  \n",
      "28          RBM     BULK_MODIFY_ROW_VALUE  User Doc         /d  \n",
      "29          RBM     BULK_MODIFY_ROW_VALUE  User Doc         /d  \n",
      "30          RBM     BULK_MODIFY_ROW_VALUE  User Doc         /d  \n",
      "31         None                      None  User Doc         /d  \n",
      "32         None                      None  User Doc         /d  \n",
      "33         None                      None  User Doc         /d  \n"
     ]
    }
   ],
   "source": [
    "print(psql.sqldf(\"select * from df1 where date = '2017-12-19' and userid = 245  and docid = 155 order by 1;\", globals()))"
   ]
  },
  {
   "cell_type": "markdown",
   "metadata": {},
   "source": [
    "From above we can see a user navigates to the doc and edits it. This seems to be the pattern for most other users who are editing the docs. "
   ]
  },
  {
   "cell_type": "markdown",
   "metadata": {},
   "source": [
    "For the next part I want to compare how many different docs do users edit and how frequently do they edit a doc"
   ]
  },
  {
   "cell_type": "markdown",
   "metadata": {},
   "source": [
    "The below query calculates the number of distinct users per doc and the number of distinct days it has events for"
   ]
  },
  {
   "cell_type": "code",
   "execution_count": 18,
   "metadata": {
    "jupyter": {
     "source_hidden": true
    }
   },
   "outputs": [],
   "source": [
    "x = psql.sqldf(\"select docid, count(*) as events, count(distinct(userid)) as user_count, count(distinct(date)) as date_count from df1 group by 1 order by 2 desc;\", globals())"
   ]
  },
  {
   "cell_type": "code",
   "execution_count": 19,
   "metadata": {
    "jupyter": {
     "source_hidden": true
    }
   },
   "outputs": [
    {
     "data": {
      "text/html": [
       "<div>\n",
       "<style scoped>\n",
       "    .dataframe tbody tr th:only-of-type {\n",
       "        vertical-align: middle;\n",
       "    }\n",
       "\n",
       "    .dataframe tbody tr th {\n",
       "        vertical-align: top;\n",
       "    }\n",
       "\n",
       "    .dataframe thead th {\n",
       "        text-align: right;\n",
       "    }\n",
       "</style>\n",
       "<table border=\"1\" class=\"dataframe\">\n",
       "  <thead>\n",
       "    <tr style=\"text-align: right;\">\n",
       "      <th></th>\n",
       "      <th>docid</th>\n",
       "      <th>events</th>\n",
       "      <th>user_count</th>\n",
       "      <th>date_count</th>\n",
       "    </tr>\n",
       "  </thead>\n",
       "  <tbody>\n",
       "    <tr>\n",
       "      <th>0</th>\n",
       "      <td>88</td>\n",
       "      <td>73384</td>\n",
       "      <td>156</td>\n",
       "      <td>168</td>\n",
       "    </tr>\n",
       "    <tr>\n",
       "      <th>1</th>\n",
       "      <td>207</td>\n",
       "      <td>50231</td>\n",
       "      <td>1</td>\n",
       "      <td>91</td>\n",
       "    </tr>\n",
       "    <tr>\n",
       "      <th>2</th>\n",
       "      <td>225</td>\n",
       "      <td>30112</td>\n",
       "      <td>7</td>\n",
       "      <td>24</td>\n",
       "    </tr>\n",
       "    <tr>\n",
       "      <th>3</th>\n",
       "      <td>168</td>\n",
       "      <td>21006</td>\n",
       "      <td>34</td>\n",
       "      <td>71</td>\n",
       "    </tr>\n",
       "    <tr>\n",
       "      <th>4</th>\n",
       "      <td>90</td>\n",
       "      <td>18906</td>\n",
       "      <td>1</td>\n",
       "      <td>12</td>\n",
       "    </tr>\n",
       "    <tr>\n",
       "      <th>5</th>\n",
       "      <td>138</td>\n",
       "      <td>13586</td>\n",
       "      <td>2</td>\n",
       "      <td>34</td>\n",
       "    </tr>\n",
       "    <tr>\n",
       "      <th>6</th>\n",
       "      <td>263</td>\n",
       "      <td>12864</td>\n",
       "      <td>49</td>\n",
       "      <td>78</td>\n",
       "    </tr>\n",
       "    <tr>\n",
       "      <th>7</th>\n",
       "      <td>252</td>\n",
       "      <td>12475</td>\n",
       "      <td>13</td>\n",
       "      <td>41</td>\n",
       "    </tr>\n",
       "    <tr>\n",
       "      <th>8</th>\n",
       "      <td>12</td>\n",
       "      <td>10348</td>\n",
       "      <td>2</td>\n",
       "      <td>48</td>\n",
       "    </tr>\n",
       "    <tr>\n",
       "      <th>9</th>\n",
       "      <td>246</td>\n",
       "      <td>9724</td>\n",
       "      <td>13</td>\n",
       "      <td>19</td>\n",
       "    </tr>\n",
       "  </tbody>\n",
       "</table>\n",
       "</div>"
      ],
      "text/plain": [
       "   docid  events  user_count  date_count\n",
       "0     88   73384         156         168\n",
       "1    207   50231           1          91\n",
       "2    225   30112           7          24\n",
       "3    168   21006          34          71\n",
       "4     90   18906           1          12\n",
       "5    138   13586           2          34\n",
       "6    263   12864          49          78\n",
       "7    252   12475          13          41\n",
       "8     12   10348           2          48\n",
       "9    246    9724          13          19"
      ]
     },
     "execution_count": 19,
     "metadata": {},
     "output_type": "execute_result"
    }
   ],
   "source": [
    "x.head(10)"
   ]
  },
  {
   "cell_type": "code",
   "execution_count": 20,
   "metadata": {
    "jupyter": {
     "source_hidden": true
    }
   },
   "outputs": [
    {
     "data": {
      "text/html": [
       "<div>\n",
       "<style scoped>\n",
       "    .dataframe tbody tr th:only-of-type {\n",
       "        vertical-align: middle;\n",
       "    }\n",
       "\n",
       "    .dataframe tbody tr th {\n",
       "        vertical-align: top;\n",
       "    }\n",
       "\n",
       "    .dataframe thead th {\n",
       "        text-align: right;\n",
       "    }\n",
       "</style>\n",
       "<table border=\"1\" class=\"dataframe\">\n",
       "  <thead>\n",
       "    <tr style=\"text-align: right;\">\n",
       "      <th></th>\n",
       "      <th>docid</th>\n",
       "      <th>events</th>\n",
       "      <th>user_count</th>\n",
       "      <th>date_count</th>\n",
       "    </tr>\n",
       "  </thead>\n",
       "  <tbody>\n",
       "    <tr>\n",
       "      <th>304</th>\n",
       "      <td>68</td>\n",
       "      <td>4</td>\n",
       "      <td>1</td>\n",
       "      <td>1</td>\n",
       "    </tr>\n",
       "    <tr>\n",
       "      <th>305</th>\n",
       "      <td>66</td>\n",
       "      <td>4</td>\n",
       "      <td>1</td>\n",
       "      <td>1</td>\n",
       "    </tr>\n",
       "    <tr>\n",
       "      <th>306</th>\n",
       "      <td>59</td>\n",
       "      <td>4</td>\n",
       "      <td>1</td>\n",
       "      <td>1</td>\n",
       "    </tr>\n",
       "    <tr>\n",
       "      <th>307</th>\n",
       "      <td>47</td>\n",
       "      <td>4</td>\n",
       "      <td>1</td>\n",
       "      <td>1</td>\n",
       "    </tr>\n",
       "    <tr>\n",
       "      <th>308</th>\n",
       "      <td>36</td>\n",
       "      <td>4</td>\n",
       "      <td>1</td>\n",
       "      <td>1</td>\n",
       "    </tr>\n",
       "    <tr>\n",
       "      <th>309</th>\n",
       "      <td>35</td>\n",
       "      <td>4</td>\n",
       "      <td>1</td>\n",
       "      <td>1</td>\n",
       "    </tr>\n",
       "    <tr>\n",
       "      <th>310</th>\n",
       "      <td>2</td>\n",
       "      <td>4</td>\n",
       "      <td>1</td>\n",
       "      <td>1</td>\n",
       "    </tr>\n",
       "    <tr>\n",
       "      <th>311</th>\n",
       "      <td>186</td>\n",
       "      <td>3</td>\n",
       "      <td>1</td>\n",
       "      <td>1</td>\n",
       "    </tr>\n",
       "    <tr>\n",
       "      <th>312</th>\n",
       "      <td>43</td>\n",
       "      <td>3</td>\n",
       "      <td>1</td>\n",
       "      <td>1</td>\n",
       "    </tr>\n",
       "    <tr>\n",
       "      <th>313</th>\n",
       "      <td>72</td>\n",
       "      <td>2</td>\n",
       "      <td>1</td>\n",
       "      <td>1</td>\n",
       "    </tr>\n",
       "  </tbody>\n",
       "</table>\n",
       "</div>"
      ],
      "text/plain": [
       "     docid  events  user_count  date_count\n",
       "304     68       4           1           1\n",
       "305     66       4           1           1\n",
       "306     59       4           1           1\n",
       "307     47       4           1           1\n",
       "308     36       4           1           1\n",
       "309     35       4           1           1\n",
       "310      2       4           1           1\n",
       "311    186       3           1           1\n",
       "312     43       3           1           1\n",
       "313     72       2           1           1"
      ]
     },
     "execution_count": 20,
     "metadata": {},
     "output_type": "execute_result"
    }
   ],
   "source": [
    "x.tail(10)"
   ]
  },
  {
   "cell_type": "code",
   "execution_count": 21,
   "metadata": {
    "jupyter": {
     "source_hidden": true
    }
   },
   "outputs": [
    {
     "data": {
      "text/plain": [
       "<matplotlib.axes._subplots.AxesSubplot at 0x7fd0c9cf2610>"
      ]
     },
     "execution_count": 21,
     "metadata": {},
     "output_type": "execute_result"
    },
    {
     "data": {
      "image/png": "[encoded data removed]",
      "text/plain": [
       "<Figure size 432x288 with 1 Axes>"
      ]
     },
     "metadata": {
      "needs_background": "light"
     },
     "output_type": "display_data"
    }
   ],
   "source": [
    "sns.histplot(data=x, x='user_count')"
   ]
  },
  {
   "cell_type": "code",
   "execution_count": 22,
   "metadata": {
    "jupyter": {
     "source_hidden": true
    }
   },
   "outputs": [
    {
     "data": {
      "text/plain": [
       "<matplotlib.axes._subplots.AxesSubplot at 0x7fd0c9c1f1d0>"
      ]
     },
     "execution_count": 22,
     "metadata": {},
     "output_type": "execute_result"
    },
    {
     "data": {
      "image/png": "[encoded data removed]",
      "text/plain": [
       "<Figure size 432x288 with 1 Axes>"
      ]
     },
     "metadata": {
      "needs_background": "light"
     },
     "output_type": "display_data"
    }
   ],
   "source": [
    "sns.histplot(data=x, x='date_count')"
   ]
  },
  {
   "cell_type": "code",
   "execution_count": 23,
   "metadata": {
    "jupyter": {
     "source_hidden": true
    }
   },
   "outputs": [
    {
     "data": {
      "text/plain": [
       "<matplotlib.axes._subplots.AxesSubplot at 0x7fd0cc7a7c90>"
      ]
     },
     "execution_count": 23,
     "metadata": {},
     "output_type": "execute_result"
    },
    {
     "data": {
      "image/png": "[encoded data removed]",
      "text/plain": [
       "<Figure size 432x288 with 1 Axes>"
      ]
     },
     "metadata": {
      "needs_background": "light"
     },
     "output_type": "display_data"
    }
   ],
   "source": [
    "sns.scatterplot(data=x, x='date_count', y='user_count')"
   ]
  },
  {
   "cell_type": "markdown",
   "metadata": {},
   "source": [
    "**From the above there is pattern where some of the docs seem to be shared docs, and are used by multiple users over multiple days. Majority of the docs still seem to be used by a single users and possible for a few days. This mostly indiciates that users are using coda to take notes for different topics or simply using a new doc to new topic/report. Also majority of the usage is single user usage, which could indicate that coda is still being used in this company as a notes taking tool, but not as a information sharing tool.**"
   ]
  },
  {
   "cell_type": "markdown",
   "metadata": {},
   "source": [
    "#### Now focusing on the add event to see what is being added by the users "
   ]
  },
  {
   "cell_type": "code",
   "execution_count": 25,
   "metadata": {
    "jupyter": {
     "source_hidden": true
    }
   },
   "outputs": [
    {
     "name": "stdout",
     "output_type": "stream",
     "text": [
      "         event_type  event_count  doc_count\n",
      "0        addFormula         1283         56\n",
      "1        addSection          735         88\n",
      "2           addGrid          501        158\n",
      "3    addLinkedTable          342        119\n",
      "4  addSectionFolder          166         41\n",
      "5          addImage          122         22\n",
      "6  addCommentThread           52         21\n"
     ]
    }
   ],
   "source": [
    "print(psql.sqldf(\"select event_type, count(*) as event_count, count(distinct(docid)) as doc_count from df1 where event_type like 'add%' group by 1 order by 2 desc;\", globals()))"
   ]
  },
  {
   "cell_type": "markdown",
   "metadata": {},
   "source": [
    "**Most of the additions seem to be for Formula, followed by section and grid. Addition of linked tables is also popular. From this it seems users are making use of Formulas and linked tables to do automatic updates and calculations and also sharing the tables across multiple docs. Tables seems to be a important use case for these sets of users.**"
   ]
  },
  {
   "cell_type": "markdown",
   "metadata": {},
   "source": [
    "### Now looking at the event details for applyLocalOperation"
   ]
  },
  {
   "cell_type": "code",
   "execution_count": 26,
   "metadata": {
    "jupyter": {
     "source_hidden": true
    }
   },
   "outputs": [
    {
     "name": "stdout",
     "output_type": "stream",
     "text": [
      "   event_detail                       event_detail_name  event_count  \\\n",
      "0           SPL                           SPLICE_STRING       252692   \n",
      "1           RBM                   BULK_MODIFY_ROW_VALUE        28434   \n",
      "2           BRA                            BULK_ADD_ROW         6723   \n",
      "3           VPR                       SET_VIEW_PROPERTY         4348   \n",
      "4            CW                     CHANGE_COLUMN_WIDTH         4306   \n",
      "5           CVF              MODIFY_COLUMN_VALUE_FORMAT         4287   \n",
      "6            CC                           CREATE_COLUMN         3501   \n",
      "7           RUL                     RANGES_UPDATE_LINES         3012   \n",
      "8            CS                             SHOW_COLUMN         2576   \n",
      "9            CN                           RENAME_COLUMN         2350   \n",
      "10          CON                             CHANGE_NAME         2179   \n",
      "11         CVPR                SET_COLUMN_VIEW_PROPERTY         1843   \n",
      "12           CF                   CHANGE_COLUMN_FORMULA         1772   \n",
      "13         COFM               MODIFY_CONDITIONAL_FORMAT         1753   \n",
      "14          COR                           REMOVE_OBJECT         1696   \n",
      "15          RMV                                MOVE_ROW         1162   \n",
      "16        CSSFS  SET_COLLABORATIVE_SEARCH_FILTER_STRING         1145   \n",
      "17          BRR                         BULK_REMOVE_ROW         1136   \n",
      "18          CAC         CHANGE_COLUMN_AGGREGATE_FORMULA         1088   \n",
      "19         VGSC                    SET_GROUP_BY_COLUMNS         1056   \n",
      "20         CCDV  CHANGE_COLUMN_CONSTRAINT_DEFAULT_VALUE          939   \n",
      "21          RAS                       RANGES_APPLY_SPAN          745   \n",
      "22           CR                           REMOVE_COLUMN          742   \n",
      "23         COCC                           CREATE_CANVAS          735   \n",
      "24        COCTL                          CREATE_CONTROL          733   \n",
      "25         COCF                                    None          673   \n",
      "26           CH                             HIDE_COLUMN          558   \n",
      "27           SS                               SET_SORTS          524   \n",
      "28         COCG                             CREATE_GRID          501   \n",
      "29          CFC                                    None          498   \n",
      "30         CCOS            CHANGE_COLUMN_OVERFLOW_STYLE          494   \n",
      "31         VGSR                 REMOVE_GROUP_BY_COLUMNS          465   \n",
      "32         COCT                            CREATE_TABLE          444   \n",
      "33           VC                             CREATE_VIEW          444   \n",
      "34         CORE                          RESTORE_OBJECT          423   \n",
      "35           SR                            REMOVE_SORTS          397   \n",
      "36           CM                     CHANGE_COLUMN_INDEX          374   \n",
      "37          RRS                      RANGES_REMOVE_SPAN          370   \n",
      "38         COFA                  ADD_CONDITIONAL_FORMAT          328   \n",
      "39         CORS                           RESIZE_OBJECT          316   \n",
      "40        CCSEG         CHANGE_COLUMN_SHOW_EMPTY_GROUPS          191   \n",
      "41         COCI                            CREATE_IMAGE          122   \n",
      "42          CID                  SET_IDENTIFYING_COLUMN          116   \n",
      "43         COFR               REMOVE_CONDITIONAL_FORMAT           65   \n",
      "44          BSR                        BULK_RESTORE_ROW           33   \n",
      "45           VR                             REMOVE_VIEW           26   \n",
      "46         SPCN         SET_SHOULD_PEOPLE_COLUMN_NOTIFY           19   \n",
      "47          CRS                          RESTORE_COLUMN           18   \n",
      "48          RUN                             RANGES_UNDO           18   \n",
      "49         COFI         CHANGE_CONDITIONAL_FORMAT_INDEX            8   \n",
      "\n",
      "    doc_count  user_count  \n",
      "0         199         176  \n",
      "1         202         196  \n",
      "2         301         284  \n",
      "3         132         144  \n",
      "4         135         121  \n",
      "5         154         134  \n",
      "6         172         147  \n",
      "7         150         146  \n",
      "8         123         104  \n",
      "9         136         119  \n",
      "10        169         147  \n",
      "11        111         114  \n",
      "12         52          62  \n",
      "13         32          30  \n",
      "14         83          75  \n",
      "15         57          67  \n",
      "16         72          62  \n",
      "17         60          75  \n",
      "18        165         132  \n",
      "19        111         102  \n",
      "20        121         105  \n",
      "21         41          47  \n",
      "22         51          54  \n",
      "23         88          80  \n",
      "24         44          52  \n",
      "25         31          34  \n",
      "26         31          31  \n",
      "27         35          43  \n",
      "28        158         128  \n",
      "29         20          19  \n",
      "30         27          28  \n",
      "31         60          54  \n",
      "32        119         103  \n",
      "33        119         103  \n",
      "34         28          32  \n",
      "35        115         100  \n",
      "36         34          38  \n",
      "37         28          34  \n",
      "38         31          31  \n",
      "39         19          27  \n",
      "40         14          11  \n",
      "41         22          21  \n",
      "42         29          26  \n",
      "43         14          16  \n",
      "44          8          15  \n",
      "45         12          16  \n",
      "46         12          11  \n",
      "47          9           8  \n",
      "48          7          10  \n",
      "49          4           4  \n"
     ]
    }
   ],
   "source": [
    "print(psql.sqldf(\"select event_detail, event_detail_name, count(*) as event_count, count(distinct(docid)) as doc_count, count(distinct(userid)) as user_count from df1 where event_type = 'applyLocalOperation' group by 1, 2 order by 3 desc;\", globals()))"
   ]
  },
  {
   "cell_type": "markdown",
   "metadata": {},
   "source": [
    "**From above we can see that the majority of the operations are for splicing of strings. I am assuming this is addition of different paragraphs of text.\n",
    "The next set of operations seem to be related to tables like BULK_MODIFY_ROW_VALUE, BULK_ADD_ROW, CHANGE_COLUMN_WIDTH. This indicates heavy usage of tables inside of docs by these particular set of users.**"
   ]
  },
  {
   "cell_type": "markdown",
   "metadata": {},
   "source": [
    "## Recommendations"
   ]
  },
  {
   "cell_type": "markdown",
   "metadata": {},
   "source": [
    "- For these particular users the since the usage pattern is skewed with a significant number of users not necessarily using all the features of the doc but just using it to read information, the team can focus on user acquisition by getting the users more aware about the different features that are present in coda and getting users to create docs.\n",
    "\n",
    "- Since majority of users are using single doc per day, we can further investigate why is this so. \n",
    "    - One of the reasons could be the separation of information and hence more docs are created per separate topic. The team can then invest into features better organization for docs by topics/folders which can allow to the users to easily handle large volume of docs \n",
    "    - Another reason could be that coda is still used as personalized notes taking/book keeping tool in this company. Here the team can focus on customer education with respect to how Coda can be used in information sharing/presentations and build better features for the same.\n",
    "    \n",
    "- Formulas inside of Coda along with linked tables seems like a popular use case with this set of customers. The team can focus on more automated formulas, and formula shortcuts to further support this use case.\n",
    "\n",
    "- Another popular use case is that of tables. The team should focus on easy of use with respect to tables and better editing capabilities for tables and most of the operations seem focused on table editing.\n",
    "    "
   ]
  },
  {
   "cell_type": "code",
   "execution_count": null,
   "metadata": {},
   "outputs": [],
   "source": []
  }
 ],
 "metadata": {
  "kernelspec": {
   "display_name": "Python 3",
   "language": "python",
   "name": "python3"
  },
  "language_info": {
   "codemirror_mode": {
    "name": "ipython",
    "version": 3
   },
   "file_extension": ".py",
   "mimetype": "text/x-python",
   "name": "python",
   "nbconvert_exporter": "python",
   "pygments_lexer": "ipython3",
   "version": "3.7.6"
  }
 },
 "nbformat": 4,
 "nbformat_minor": 4
}
